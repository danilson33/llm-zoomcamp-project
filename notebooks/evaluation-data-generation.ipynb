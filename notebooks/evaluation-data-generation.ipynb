{
 "cells": [
  {
   "cell_type": "code",
   "execution_count": 2,
   "id": "f35b1666-5393-458a-b747-177c1a1525ca",
   "metadata": {},
   "outputs": [],
   "source": [
    "import pandas as pd\n",
    "import os\n",
    "import json\n",
    "from openai import OpenAI\n",
    "from tqdm.auto import tqdm\n"
   ]
  },
  {
   "cell_type": "code",
   "execution_count": 4,
   "id": "7e039828",
   "metadata": {},
   "outputs": [],
   "source": [
    "os.environ[\"OPENAI_API_KEY\"]=''"
   ]
  },
  {
   "cell_type": "code",
   "execution_count": 5,
   "id": "a88433ad-dcc1-4455-a0df-3006b43c52a0",
   "metadata": {},
   "outputs": [],
   "source": [
    "client = OpenAI()"
   ]
  },
  {
   "cell_type": "code",
   "execution_count": 6,
   "id": "5babe3a1-3d8b-428a-92a8-5fc2285fc494",
   "metadata": {},
   "outputs": [],
   "source": [
    "df = pd.read_csv('../data/recipes.csv')\n",
    "documents = df.to_dict(orient='records')"
   ]
  },
  {
   "cell_type": "code",
   "execution_count": 7,
   "id": "3a9c9491",
   "metadata": {},
   "outputs": [
    {
     "name": "stdout",
     "output_type": "stream",
     "text": [
      "<class 'pandas.core.frame.DataFrame'>\n",
      "RangeIndex: 170 entries, 0 to 169\n",
      "Data columns (total 28 columns):\n",
      " #   Column                      Non-Null Count  Dtype  \n",
      "---  ------                      --------------  -----  \n",
      " 0   RecipeId                    170 non-null    int64  \n",
      " 1   Name                        170 non-null    object \n",
      " 2   AuthorId                    170 non-null    int64  \n",
      " 3   AuthorName                  170 non-null    object \n",
      " 4   CookTime                    132 non-null    object \n",
      " 5   PrepTime                    170 non-null    object \n",
      " 6   TotalTime                   170 non-null    object \n",
      " 7   DatePublished               170 non-null    object \n",
      " 8   Description                 170 non-null    object \n",
      " 9   Images                      170 non-null    object \n",
      " 10  RecipeCategory              170 non-null    object \n",
      " 11  Keywords                    169 non-null    object \n",
      " 12  RecipeIngredientQuantities  170 non-null    object \n",
      " 13  RecipeIngredientParts       170 non-null    object \n",
      " 14  AggregatedRating            144 non-null    float64\n",
      " 15  ReviewCount                 145 non-null    float64\n",
      " 16  Calories                    170 non-null    float64\n",
      " 17  FatContent                  170 non-null    float64\n",
      " 18  SaturatedFatContent         170 non-null    float64\n",
      " 19  CholesterolContent          170 non-null    float64\n",
      " 20  SodiumContent               170 non-null    float64\n",
      " 21  CarbohydrateContent         170 non-null    float64\n",
      " 22  FiberContent                170 non-null    float64\n",
      " 23  SugarContent                170 non-null    float64\n",
      " 24  ProteinContent              170 non-null    float64\n",
      " 25  RecipeServings              123 non-null    float64\n",
      " 26  RecipeYield                 53 non-null     object \n",
      " 27  RecipeInstructions          170 non-null    object \n",
      "dtypes: float64(12), int64(2), object(14)\n",
      "memory usage: 37.3+ KB\n"
     ]
    }
   ],
   "source": [
    "df.info()"
   ]
  },
  {
   "cell_type": "code",
   "execution_count": 8,
   "id": "3a636d52",
   "metadata": {},
   "outputs": [
    {
     "data": {
      "text/html": [
       "<div>\n",
       "<style scoped>\n",
       "    .dataframe tbody tr th:only-of-type {\n",
       "        vertical-align: middle;\n",
       "    }\n",
       "\n",
       "    .dataframe tbody tr th {\n",
       "        vertical-align: top;\n",
       "    }\n",
       "\n",
       "    .dataframe thead th {\n",
       "        text-align: right;\n",
       "    }\n",
       "</style>\n",
       "<table border=\"1\" class=\"dataframe\">\n",
       "  <thead>\n",
       "    <tr style=\"text-align: right;\">\n",
       "      <th></th>\n",
       "      <th>Name</th>\n",
       "      <th>Description</th>\n",
       "      <th>RecipeInstructions</th>\n",
       "      <th>Calories</th>\n",
       "      <th>FatContent</th>\n",
       "      <th>SaturatedFatContent</th>\n",
       "      <th>CholesterolContent</th>\n",
       "      <th>SodiumContent</th>\n",
       "      <th>CarbohydrateContent</th>\n",
       "      <th>FiberContent</th>\n",
       "      <th>SugarContent</th>\n",
       "      <th>ProteinContent</th>\n",
       "    </tr>\n",
       "  </thead>\n",
       "  <tbody>\n",
       "    <tr>\n",
       "      <th>0</th>\n",
       "      <td>Low-Fat Berry Blue Frozen Dessert</td>\n",
       "      <td>Make and share this Low-Fat Berry Blue Frozen ...</td>\n",
       "      <td>c(\"Toss 2 cups berries with sugar.\", \"Let stan...</td>\n",
       "      <td>170.9</td>\n",
       "      <td>2.5</td>\n",
       "      <td>1.3</td>\n",
       "      <td>8.0</td>\n",
       "      <td>29.8</td>\n",
       "      <td>37.1</td>\n",
       "      <td>3.6</td>\n",
       "      <td>30.2</td>\n",
       "      <td>3.2</td>\n",
       "    </tr>\n",
       "    <tr>\n",
       "      <th>1</th>\n",
       "      <td>Biryani</td>\n",
       "      <td>Make and share this Biryani recipe from Food.com.</td>\n",
       "      <td>c(\"Soak saffron in warm milk for 5 minutes and...</td>\n",
       "      <td>1110.7</td>\n",
       "      <td>58.8</td>\n",
       "      <td>16.6</td>\n",
       "      <td>372.8</td>\n",
       "      <td>368.4</td>\n",
       "      <td>84.4</td>\n",
       "      <td>9.0</td>\n",
       "      <td>20.4</td>\n",
       "      <td>63.4</td>\n",
       "    </tr>\n",
       "    <tr>\n",
       "      <th>2</th>\n",
       "      <td>Best Lemonade</td>\n",
       "      <td>This is from one of my  first Good House Keepi...</td>\n",
       "      <td>c(\"Into a 1 quart Jar with tight fitting lid, ...</td>\n",
       "      <td>311.1</td>\n",
       "      <td>0.2</td>\n",
       "      <td>0.0</td>\n",
       "      <td>0.0</td>\n",
       "      <td>1.8</td>\n",
       "      <td>81.5</td>\n",
       "      <td>0.4</td>\n",
       "      <td>77.2</td>\n",
       "      <td>0.3</td>\n",
       "    </tr>\n",
       "    <tr>\n",
       "      <th>3</th>\n",
       "      <td>Carina's Tofu-Vegetable Kebabs</td>\n",
       "      <td>This dish is best prepared a day in advance to...</td>\n",
       "      <td>c(\"Drain the tofu, carefully squeezing out exc...</td>\n",
       "      <td>536.1</td>\n",
       "      <td>24.0</td>\n",
       "      <td>3.8</td>\n",
       "      <td>0.0</td>\n",
       "      <td>1558.6</td>\n",
       "      <td>64.2</td>\n",
       "      <td>17.3</td>\n",
       "      <td>32.1</td>\n",
       "      <td>29.3</td>\n",
       "    </tr>\n",
       "    <tr>\n",
       "      <th>4</th>\n",
       "      <td>Cabbage Soup</td>\n",
       "      <td>Make and share this Cabbage Soup recipe from F...</td>\n",
       "      <td>c(\"Mix everything together and bring to a boil...</td>\n",
       "      <td>103.6</td>\n",
       "      <td>0.4</td>\n",
       "      <td>0.1</td>\n",
       "      <td>0.0</td>\n",
       "      <td>959.3</td>\n",
       "      <td>25.1</td>\n",
       "      <td>4.8</td>\n",
       "      <td>17.7</td>\n",
       "      <td>4.3</td>\n",
       "    </tr>\n",
       "  </tbody>\n",
       "</table>\n",
       "</div>"
      ],
      "text/plain": [
       "                                Name  \\\n",
       "0  Low-Fat Berry Blue Frozen Dessert   \n",
       "1                            Biryani   \n",
       "2                      Best Lemonade   \n",
       "3     Carina's Tofu-Vegetable Kebabs   \n",
       "4                       Cabbage Soup   \n",
       "\n",
       "                                         Description  \\\n",
       "0  Make and share this Low-Fat Berry Blue Frozen ...   \n",
       "1  Make and share this Biryani recipe from Food.com.   \n",
       "2  This is from one of my  first Good House Keepi...   \n",
       "3  This dish is best prepared a day in advance to...   \n",
       "4  Make and share this Cabbage Soup recipe from F...   \n",
       "\n",
       "                                  RecipeInstructions  Calories  FatContent  \\\n",
       "0  c(\"Toss 2 cups berries with sugar.\", \"Let stan...     170.9         2.5   \n",
       "1  c(\"Soak saffron in warm milk for 5 minutes and...    1110.7        58.8   \n",
       "2  c(\"Into a 1 quart Jar with tight fitting lid, ...     311.1         0.2   \n",
       "3  c(\"Drain the tofu, carefully squeezing out exc...     536.1        24.0   \n",
       "4  c(\"Mix everything together and bring to a boil...     103.6         0.4   \n",
       "\n",
       "   SaturatedFatContent  CholesterolContent  SodiumContent  \\\n",
       "0                  1.3                 8.0           29.8   \n",
       "1                 16.6               372.8          368.4   \n",
       "2                  0.0                 0.0            1.8   \n",
       "3                  3.8                 0.0         1558.6   \n",
       "4                  0.1                 0.0          959.3   \n",
       "\n",
       "   CarbohydrateContent  FiberContent  SugarContent  ProteinContent  \n",
       "0                 37.1           3.6          30.2             3.2  \n",
       "1                 84.4           9.0          20.4            63.4  \n",
       "2                 81.5           0.4          77.2             0.3  \n",
       "3                 64.2          17.3          32.1            29.3  \n",
       "4                 25.1           4.8          17.7             4.3  "
      ]
     },
     "execution_count": 8,
     "metadata": {},
     "output_type": "execute_result"
    }
   ],
   "source": [
    "# Select and reorder columns in the dataset for further analysis\n",
    "selected_columns = ['Name', 'Description', 'RecipeInstructions', 'Calories', 'FatContent', 'SaturatedFatContent',\n",
    "                     'CholesterolContent', 'SodiumContent', 'CarbohydrateContent',\n",
    "                     'FiberContent', 'SugarContent', 'ProteinContent']\n",
    "\n",
    "# Apply the selected columns to the DataFrame\n",
    "df = df[selected_columns]\n",
    "\n",
    "# Display the first few rows of the updated DataFrame\n",
    "df.head()"
   ]
  },
  {
   "cell_type": "code",
   "execution_count": 9,
   "id": "0d9752d8-ab2f-48d4-a3d9-fa33edb52c15",
   "metadata": {},
   "outputs": [],
   "source": [
    "prompt_template = \"\"\"\n",
    "You emulate a user of our diet plan assistant application.\n",
    "Formulate 5 questions this user might ask based on a provided recipes.\n",
    "Make the questions specific to this recipe.\n",
    "The record should contain the answer to the questions, and the questions should\n",
    "be complete and not too short. Use as fewer words as possible from the record. \n",
    "\n",
    "The record:\n",
    "\n",
    "Name: {Name}\n",
    "Description: {Description}\n",
    "RecipeInstructions: {RecipeInstructions}\n",
    "Calories: {Calories}\n",
    "FatContent: {FatContent}\n",
    "SaturatedFatContent: {SaturatedFatContent}\n",
    "CholesterolContent: {CholesterolContent}\n",
    "SodiumContent: {SodiumContent}\n",
    "CarbohydrateContent: {CarbohydrateContent}\n",
    "FiberContent: {FiberContent}\n",
    "SugarContent: {SugarContent}\n",
    "ProteinContent: {ProteinContent}\n",
    "\n",
    "Provide the output in parsable JSON without using code blocks:\n",
    "\n",
    "{{\"questions\": [\"question1\", \"question2\", ..., \"question5\"]}}\n",
    "\"\"\".strip()"
   ]
  },
  {
   "cell_type": "code",
   "execution_count": 10,
   "id": "f07f48f9-d611-4a47-bd62-f75731608ad6",
   "metadata": {},
   "outputs": [],
   "source": [
    "prompt = prompt_template.format(**documents[0])"
   ]
  },
  {
   "cell_type": "code",
   "execution_count": 11,
   "id": "de2a1632-4d02-46ff-9ae1-58c9704404b4",
   "metadata": {},
   "outputs": [],
   "source": [
    "def llm(prompt):\n",
    "    response = client.chat.completions.create(\n",
    "        model='gpt-4o-mini',\n",
    "        messages=[{\"role\": \"user\", \"content\": prompt}]\n",
    "    )\n",
    "    \n",
    "    return response.choices[0].message.content"
   ]
  },
  {
   "cell_type": "code",
   "execution_count": 12,
   "id": "6534a160-f763-4d21-8176-4bed6326bbb7",
   "metadata": {},
   "outputs": [],
   "source": [
    "questions = llm(prompt)"
   ]
  },
  {
   "cell_type": "code",
   "execution_count": 13,
   "id": "dd42bff8-dfa3-49af-82c9-bcb5c0e8ce3d",
   "metadata": {},
   "outputs": [
    {
     "data": {
      "text/plain": [
       "{'questions': ['How long should I let the berries and sugar mixture stand before processing?',\n",
       "  'What should I do after processing the berry and yogurt mixture?',\n",
       "  'How many cups of blueberries do I need to fold in at the end?',\n",
       "  'What is the total calorie count for the Low-Fat Berry Blue Frozen Dessert?',\n",
       "  'What are the saturated fat and cholesterol contents in this recipe?']}"
      ]
     },
     "execution_count": 13,
     "metadata": {},
     "output_type": "execute_result"
    }
   ],
   "source": [
    "json.loads(questions)"
   ]
  },
  {
   "cell_type": "code",
   "execution_count": 14,
   "id": "da0d6db9-9ed8-48a6-b483-ead8786a5fb7",
   "metadata": {},
   "outputs": [],
   "source": [
    "def generate_questions(doc):\n",
    "    prompt = prompt_template.format(**doc)\n",
    "\n",
    "    response = client.chat.completions.create(\n",
    "        model='gpt-4o-mini',\n",
    "        messages=[{\"role\": \"user\", \"content\": prompt}]\n",
    "    )\n",
    "\n",
    "    json_response = response.choices[0].message.content\n",
    "    return json_response"
   ]
  },
  {
   "cell_type": "code",
   "execution_count": 15,
   "id": "9eed0e63-1e1d-449a-89e2-d6c3a8af60ef",
   "metadata": {},
   "outputs": [],
   "source": [
    "results = {}"
   ]
  },
  {
   "cell_type": "code",
   "execution_count": 16,
   "id": "6934c88a",
   "metadata": {},
   "outputs": [
    {
     "data": {
      "text/plain": [
       "170"
      ]
     },
     "execution_count": 16,
     "metadata": {},
     "output_type": "execute_result"
    }
   ],
   "source": [
    "len(documents)"
   ]
  },
  {
   "cell_type": "code",
   "execution_count": 17,
   "id": "d6420880-03d7-4366-9243-7a4add719f0f",
   "metadata": {},
   "outputs": [
    {
     "data": {
      "application/vnd.jupyter.widget-view+json": {
       "model_id": "ea25ca5e13e347c7956200e9efb77043",
       "version_major": 2,
       "version_minor": 0
      },
      "text/plain": [
       "  0%|          | 0/170 [00:00<?, ?it/s]"
      ]
     },
     "metadata": {},
     "output_type": "display_data"
    }
   ],
   "source": [
    "for doc in tqdm(documents): \n",
    "    doc_id = doc['RecipeId']\n",
    "    if doc_id in results:\n",
    "        continue\n",
    "\n",
    "    questions_raw = generate_questions(doc)\n",
    "    questions = json.loads(questions_raw)\n",
    "    results[doc_id] = questions['questions']"
   ]
  },
  {
   "cell_type": "code",
   "execution_count": 22,
   "id": "2bcc6347-80af-499e-9ee6-d346f0e9f067",
   "metadata": {},
   "outputs": [],
   "source": [
    "final_results = []\n",
    "\n",
    "for doc_id, questions in results.items():\n",
    "    for q in questions:\n",
    "        final_results.append((doc_id, q))"
   ]
  },
  {
   "cell_type": "code",
   "execution_count": 23,
   "id": "0037e60a-e338-481e-9845-e3161c881ba3",
   "metadata": {},
   "outputs": [
    {
     "data": {
      "text/plain": [
       "(38,\n",
       " 'What type of berries are needed for the Low-Fat Berry Blue Frozen Dessert?')"
      ]
     },
     "execution_count": 23,
     "metadata": {},
     "output_type": "execute_result"
    }
   ],
   "source": [
    "final_results[0]"
   ]
  },
  {
   "cell_type": "code",
   "execution_count": 24,
   "id": "3e1fac17-dccb-46d7-bade-50166dafbd52",
   "metadata": {},
   "outputs": [],
   "source": [
    "df_results = pd.DataFrame(final_results, columns=['RecipeId', 'question'])"
   ]
  },
  {
   "cell_type": "code",
   "execution_count": 25,
   "id": "c64131b0-9cca-488b-a819-320bcd5f9342",
   "metadata": {},
   "outputs": [],
   "source": [
    "df_results.to_csv('../data/ground-truth-retrieval.csv', index=False)"
   ]
  },
  {
   "cell_type": "code",
   "execution_count": 26,
   "id": "df4e5a91-a049-432d-b5f4-cc4320c27a13",
   "metadata": {},
   "outputs": [
    {
     "name": "stdout",
     "output_type": "stream",
     "text": [
      "RecipeId,question\n",
      "38,What type of berries are needed for the Low-Fat Berry Blue Frozen Dessert?\n",
      "38,How long should I let the berry and sugar mixture stand before processing?\n",
      "38,Is it necessary to strain the mixture after processing it in the food processor?\n",
      "38,Can I use an ice cream maker instead of a baking pan for this recipe?\n",
      "38,How long do I need to freeze the dessert before serving it?\n",
      "39,What ingredients are blended to create the smooth paste for the Biryani recipe?\n",
      "39,How long should I marinate the chicken in the yogurt mixture before cooking it?\n",
      "39,What should I do with the chicken after cooking it in the skillet with the marinade?\n",
      "39,How long do I need to cook the rice after adding it to the sauce?\n"
     ]
    }
   ],
   "source": [
    "!head ../data/ground-truth-retrieval.csv"
   ]
  }
 ],
 "metadata": {
  "kernelspec": {
   "display_name": "Python 3 (ipykernel)",
   "language": "python",
   "name": "python3"
  },
  "language_info": {
   "codemirror_mode": {
    "name": "ipython",
    "version": 3
   },
   "file_extension": ".py",
   "mimetype": "text/x-python",
   "name": "python",
   "nbconvert_exporter": "python",
   "pygments_lexer": "ipython3",
   "version": "3.12.4"
  }
 },
 "nbformat": 4,
 "nbformat_minor": 5
}
